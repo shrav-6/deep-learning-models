{
  "nbformat": 4,
  "nbformat_minor": 0,
  "metadata": {
    "colab": {
      "provenance": []
    },
    "kernelspec": {
      "name": "python3",
      "display_name": "Python 3"
    },
    "language_info": {
      "name": "python"
    }
  },
  "cells": [
    {
      "cell_type": "markdown",
      "source": [
        "#Autodiff"
      ],
      "metadata": {
        "id": "AUD25P0OAEzz"
      }
    },
    {
      "cell_type": "code",
      "source": [
        "# computational graph -> DAG\n",
        "# topological sorting\n",
        "# go through back prop"
      ],
      "metadata": {
        "id": "e7rP99STAJG1"
      },
      "execution_count": null,
      "outputs": []
    },
    {
      "cell_type": "code",
      "source": [
        "class Variable:\n",
        "  def __init__(self, value):\n",
        "    self.value = value\n",
        "    self.gradient = 0\n",
        "    self.fanout = 0\n",
        "\n",
        "  def __add__(self, other):\n",
        "    self.fanout += 1\n",
        "    other.fanout += 1\n",
        "    return Addition(self, other)\n",
        "\n",
        "  def __pow__(self, c):\n",
        "    self.fanout += 1\n",
        "    return Power(self, c)\n",
        "\n",
        "  def __str__(self):\n",
        "    return str(self.value)\n",
        "\n",
        "  def __mul__(self, other):\n",
        "    self.fanout += 1\n",
        "    other.fanout += 1\n",
        "    return Multiplication(self, other)\n",
        "\n",
        "  def backward(self):\n",
        "    pass\n",
        "\n",
        "class Addition(Variable):\n",
        "  def __init__(self, v1, v2):\n",
        "    super().__init__(v1.value+v2.value)\n",
        "    self.v1 = v1\n",
        "    self.v2 = v2\n",
        "\n",
        "  def backward(self):\n",
        "    self.v1.gradient += self.gradient\n",
        "    self.v2.gradient += self.gradient\n",
        "\n",
        "    self.v1.fanout -= 1\n",
        "    self.v2.fanout -= 1\n",
        "\n",
        "    if(self.v1.fanout == 0):\n",
        "      self.v1.backward()\n",
        "    if(self.v2.fanout == 0):\n",
        "      self.v2.backward()\n",
        "\n",
        "class Multiplication(Variable):\n",
        "  def __init__(self, v1, v2):\n",
        "    super().__init__(v1.value*v2.value)\n",
        "    self.v1 = v1\n",
        "    self.v2 = v2\n",
        "\n",
        "  def backward(self):\n",
        "    self.v1.gradient += self.v2.value * self.gradient\n",
        "    self.v2.gradient += self.v1.value * self.gradient\n",
        "\n",
        "    self.v1.fanout -= 1\n",
        "    self.v2.fanout -= 1\n",
        "\n",
        "    if(self.v1.fanout == 0):\n",
        "      self.v1.backward()\n",
        "    if(self.v2.fanout == 0):\n",
        "      self.v2.backward()\n",
        "\n",
        "class Power(Variable):\n",
        "  def __init__(self, v1, c):\n",
        "    super().__init__(v1.value**c)\n",
        "    self.v1 = v1\n",
        "    self.c = c\n",
        "\n",
        "  def backward(self):\n",
        "    self.v1.gradient += self.gradient * self.c * self.v1.value**(self.c - 1)\n",
        "\n",
        "    self.v1.fanout -= 1\n",
        "\n",
        "    if(self.v1.fanout == 0):\n",
        "      self.v1.backward()\n",
        "    if(self.v2.fanout == 0):\n",
        "      self.v2.backward()"
      ],
      "metadata": {
        "id": "swOWOHaPDS8x"
      },
      "execution_count": null,
      "outputs": []
    },
    {
      "cell_type": "code",
      "source": [
        "x = Variable(1)\n",
        "y = Variable(2)\n",
        "f = x + y\n",
        "f.gradient = 1\n",
        "f.backward()\n",
        "#x+y #x.__add__(y)\n",
        "print(x,y,f)\n",
        "print(x.gradient, y.gradient)"
      ],
      "metadata": {
        "colab": {
          "base_uri": "https://localhost:8080/"
        },
        "id": "y1RGG-i9EBjE",
        "outputId": "736c3fe9-904c-4987-d94c-fe3e1d59c28e"
      },
      "execution_count": null,
      "outputs": [
        {
          "output_type": "stream",
          "name": "stdout",
          "text": [
            "1 2 3\n",
            "1 1\n"
          ]
        }
      ]
    },
    {
      "cell_type": "code",
      "source": [
        "x = Variable(1)\n",
        "y = Variable(2)\n",
        "f = x + x\n",
        "f.gradient = 1\n",
        "f.backward()\n",
        "#x+y #x.__add__(y)\n",
        "print(x,y,f)\n",
        "print(x.gradient) #to avoid x.gradient to be 1 => we should not assign, but accumulate the gradient."
      ],
      "metadata": {
        "colab": {
          "base_uri": "https://localhost:8080/"
        },
        "id": "nEIWdTKzEFKG",
        "outputId": "2830df2d-021a-4b77-acbb-3cc38751256f"
      },
      "execution_count": null,
      "outputs": [
        {
          "output_type": "stream",
          "name": "stdout",
          "text": [
            "1 2 2\n",
            "2\n"
          ]
        }
      ]
    },
    {
      "cell_type": "code",
      "source": [
        "x = Variable(3)\n",
        "y = Variable(4)\n",
        "\n",
        "f = x * y\n",
        "f.gradient = 1\n",
        "f.backward()\n",
        "\n",
        "print(x,y,f)\n",
        "print(x.gradient, y.gradient)"
      ],
      "metadata": {
        "colab": {
          "base_uri": "https://localhost:8080/"
        },
        "id": "Gem3h6S2JXFP",
        "outputId": "e283d5bb-e9c2-47df-8bd8-82b9b099103c"
      },
      "execution_count": null,
      "outputs": [
        {
          "output_type": "stream",
          "name": "stdout",
          "text": [
            "3 4 12\n",
            "4 3\n"
          ]
        }
      ]
    },
    {
      "cell_type": "code",
      "source": [
        "x = Variable(3)\n",
        "y = Variable(4)\n",
        "\n",
        "xy = x * y\n",
        "first = x*xy\n",
        "second = y*xy\n",
        "f = first+second\n",
        "\n",
        "f.gradient = 1\n",
        "\n",
        "f.backward()\n",
        "#first.backward()\n",
        "#second.backward()\n",
        "#xy.backward()\n",
        "\n",
        "print(x,y,f)\n",
        "print(x.gradient, y.gradient)"
      ],
      "metadata": {
        "colab": {
          "base_uri": "https://localhost:8080/"
        },
        "id": "13xMZsDjLQkL",
        "outputId": "3778d264-1e32-493b-a152-4f95b9eb05d4"
      },
      "execution_count": null,
      "outputs": [
        {
          "output_type": "stream",
          "name": "stdout",
          "text": [
            "3 4 84\n",
            "12 12\n"
          ]
        }
      ]
    },
    {
      "cell_type": "code",
      "source": [
        "x = Variable(3)\n",
        "y = Variable(4)\n",
        "\n",
        "x2 = x*x\n",
        "y2 = y*y\n",
        "x2y = x2*y\n",
        "y2x = y2*x\n",
        "f=x2y+y2x\n",
        "\n",
        "f.gradient = 1\n",
        "f.backward()\n",
        "#y2x.backward()\n",
        "#x2y.backward()\n",
        "#x2.backward()\n",
        "#y2.backward()\n",
        "\n",
        "print(x,y,f)\n",
        "print(x.gradient, y.gradient)"
      ],
      "metadata": {
        "colab": {
          "base_uri": "https://localhost:8080/"
        },
        "id": "j_ldobmvL0vu",
        "outputId": "56b86065-9282-4b80-eb04-d97e2930cf31"
      },
      "execution_count": null,
      "outputs": [
        {
          "output_type": "stream",
          "name": "stdout",
          "text": [
            "3 4 84\n",
            "40 33\n"
          ]
        }
      ]
    },
    {
      "cell_type": "code",
      "source": [
        "x = Variable(2)\n",
        "\n",
        "x_sqrt = x ** 0.5\n",
        "f = x_sqrt ** 2\n",
        "\n",
        "f.gradient = 1\n",
        "f.backward()\n",
        "x_sqrt.backward()\n",
        "\n",
        "x.gradient"
      ],
      "metadata": {
        "id": "q5Tycsh7P0WZ",
        "colab": {
          "base_uri": "https://localhost:8080/"
        },
        "outputId": "5a1e1914-b789-4dc1-cdb8-eb35c0ab2e79"
      },
      "execution_count": null,
      "outputs": [
        {
          "output_type": "execute_result",
          "data": {
            "text/plain": [
              "1.0000000000000002"
            ]
          },
          "metadata": {},
          "execution_count": 2
        }
      ]
    },
    {
      "cell_type": "code",
      "source": [
        "x = Variable(-2)\n",
        "\n",
        "x_sqrt = x ** 0.5\n",
        "f = x_sqrt ** 2\n",
        "\n",
        "f.gradient = 1\n",
        "f.backward()\n",
        "x_sqrt.backward()\n",
        "\n",
        "x.gradient"
      ],
      "metadata": {
        "colab": {
          "base_uri": "https://localhost:8080/"
        },
        "id": "IRf6A0P5VtCh",
        "outputId": "c91c0b0f-81a7-44ac-960c-f72fe798f9fb"
      },
      "execution_count": null,
      "outputs": [
        {
          "output_type": "execute_result",
          "data": {
            "text/plain": [
              "(1.0000000000000002+0j)"
            ]
          },
          "metadata": {},
          "execution_count": 3
        }
      ]
    },
    {
      "cell_type": "code",
      "source": [
        "x = Variable(0)\n",
        "\n",
        "x_sqrt = x ** 0.5\n",
        "f = x_sqrt ** 2\n",
        "\n",
        "f.gradient = 1\n",
        "f.backward()\n",
        "x_sqrt.backward()\n",
        "\n",
        "x.gradient"
      ],
      "metadata": {
        "colab": {
          "base_uri": "https://localhost:8080/",
          "height": 331
        },
        "id": "i-_Tgbt-WXT5",
        "outputId": "17d8b899-3d74-43af-fd54-930db60d88ed"
      },
      "execution_count": null,
      "outputs": [
        {
          "output_type": "error",
          "ename": "ZeroDivisionError",
          "evalue": "0.0 cannot be raised to a negative power",
          "traceback": [
            "\u001b[0;31m---------------------------------------------------------------------------\u001b[0m",
            "\u001b[0;31mZeroDivisionError\u001b[0m                         Traceback (most recent call last)",
            "\u001b[0;32m<ipython-input-4-985c98c48cf4>\u001b[0m in \u001b[0;36m<cell line: 8>\u001b[0;34m()\u001b[0m\n\u001b[1;32m      6\u001b[0m \u001b[0mf\u001b[0m\u001b[0;34m.\u001b[0m\u001b[0mgradient\u001b[0m \u001b[0;34m=\u001b[0m \u001b[0;36m1\u001b[0m\u001b[0;34m\u001b[0m\u001b[0;34m\u001b[0m\u001b[0m\n\u001b[1;32m      7\u001b[0m \u001b[0mf\u001b[0m\u001b[0;34m.\u001b[0m\u001b[0mbackward\u001b[0m\u001b[0;34m(\u001b[0m\u001b[0;34m)\u001b[0m\u001b[0;34m\u001b[0m\u001b[0;34m\u001b[0m\u001b[0m\n\u001b[0;32m----> 8\u001b[0;31m \u001b[0mx_sqrt\u001b[0m\u001b[0;34m.\u001b[0m\u001b[0mbackward\u001b[0m\u001b[0;34m(\u001b[0m\u001b[0;34m)\u001b[0m\u001b[0;34m\u001b[0m\u001b[0;34m\u001b[0m\u001b[0m\n\u001b[0m\u001b[1;32m      9\u001b[0m \u001b[0;34m\u001b[0m\u001b[0m\n\u001b[1;32m     10\u001b[0m \u001b[0mx\u001b[0m\u001b[0;34m.\u001b[0m\u001b[0mgradient\u001b[0m\u001b[0;34m\u001b[0m\u001b[0;34m\u001b[0m\u001b[0m\n",
            "\u001b[0;32m<ipython-input-1-5fb352724d97>\u001b[0m in \u001b[0;36mbackward\u001b[0;34m(self)\u001b[0m\n\u001b[1;32m     43\u001b[0m \u001b[0;34m\u001b[0m\u001b[0m\n\u001b[1;32m     44\u001b[0m   \u001b[0;32mdef\u001b[0m \u001b[0mbackward\u001b[0m\u001b[0;34m(\u001b[0m\u001b[0mself\u001b[0m\u001b[0;34m)\u001b[0m\u001b[0;34m:\u001b[0m\u001b[0;34m\u001b[0m\u001b[0;34m\u001b[0m\u001b[0m\n\u001b[0;32m---> 45\u001b[0;31m     \u001b[0mself\u001b[0m\u001b[0;34m.\u001b[0m\u001b[0mv1\u001b[0m\u001b[0;34m.\u001b[0m\u001b[0mgradient\u001b[0m \u001b[0;34m+=\u001b[0m \u001b[0mself\u001b[0m\u001b[0;34m.\u001b[0m\u001b[0mgradient\u001b[0m \u001b[0;34m*\u001b[0m \u001b[0mself\u001b[0m\u001b[0;34m.\u001b[0m\u001b[0mc\u001b[0m \u001b[0;34m*\u001b[0m \u001b[0mself\u001b[0m\u001b[0;34m.\u001b[0m\u001b[0mv1\u001b[0m\u001b[0;34m.\u001b[0m\u001b[0mvalue\u001b[0m\u001b[0;34m**\u001b[0m\u001b[0;34m(\u001b[0m\u001b[0mself\u001b[0m\u001b[0;34m.\u001b[0m\u001b[0mc\u001b[0m \u001b[0;34m-\u001b[0m \u001b[0;36m1\u001b[0m\u001b[0;34m)\u001b[0m\u001b[0;34m\u001b[0m\u001b[0;34m\u001b[0m\u001b[0m\n\u001b[0m",
            "\u001b[0;31mZeroDivisionError\u001b[0m: 0.0 cannot be raised to a negative power"
          ]
        }
      ]
    },
    {
      "cell_type": "code",
      "source": [
        "x = Variable(2)\n",
        "\n",
        "x_sqrt = x ** 0.5\n",
        "f = x_sqrt ** 2\n",
        "\n",
        "f.gradient = 1\n",
        "f.backward()\n",
        "\n",
        "x.gradient"
      ],
      "metadata": {
        "colab": {
          "base_uri": "https://localhost:8080/"
        },
        "id": "hVYwEfHOWYyU",
        "outputId": "7558f53b-544e-4da3-b55a-6a9d8149585c"
      },
      "execution_count": null,
      "outputs": [
        {
          "output_type": "execute_result",
          "data": {
            "text/plain": [
              "0"
            ]
          },
          "metadata": {},
          "execution_count": 8
        }
      ]
    },
    {
      "cell_type": "code",
      "source": [],
      "metadata": {
        "id": "_O30wd9FY7tq"
      },
      "execution_count": null,
      "outputs": []
    }
  ]
}