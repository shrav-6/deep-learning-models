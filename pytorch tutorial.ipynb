{
  "nbformat": 4,
  "nbformat_minor": 0,
  "metadata": {
    "colab": {
      "provenance": [],
      "collapsed_sections": [
        "S9ecFPogiSrw",
        "WGEfdTGCiSr0",
        "khVJIk4XiSso",
        "uIl-4WSqiSs0",
        "0GYC6c3GiStI",
        "Jgn2cfekiStL"
      ]
    },
    "kernelspec": {
      "display_name": "Python 3",
      "name": "python3"
    },
    "language_info": {
      "codemirror_mode": {
        "name": "ipython",
        "version": 3
      },
      "file_extension": ".py",
      "mimetype": "text/x-python",
      "name": "python",
      "nbconvert_exporter": "python",
      "pygments_lexer": "ipython3",
      "version": "3.7.4"
    }
  },
  "cells": [
    {
      "cell_type": "markdown",
      "metadata": {
        "id": "ejX1jQDdiSrA"
      },
      "source": [
        "## <center> CSCI 6516 : PyTorch Intro </center>"
      ]
    },
    {
      "cell_type": "markdown",
      "metadata": {
        "id": "QPzA0K3biSrB"
      },
      "source": [
        "This is a tutorial on PyTorch basics. This notes is just a starting point. You are encouraged to find out more. The ideal use of this notebook would be as a reference which you keep updating as you learn new things.\n",
        "\n",
        "<b>Credits:</b> Content presented in this tutorial is what I have learnt from my teachers, friends and the python community on stackoverflow.\n"
      ]
    },
    {
      "cell_type": "markdown",
      "metadata": {
        "id": "MiKdIznZiSrD"
      },
      "source": [
        "- PyTorch vs Numpy\n",
        "- Compute Graph\n",
        "  * Directed Acyclic Graph\n",
        "  * Nodes having no parent nodes - Leaf Nodes in PyTorch [Inputs, Parameters, Expected Outputs]"
      ]
    },
    {
      "cell_type": "code",
      "metadata": {
        "id": "di5bFJKciSrF",
        "colab": {
          "base_uri": "https://localhost:8080/"
        },
        "outputId": "e91c8295-e5de-4e50-babc-a4612737b199"
      },
      "source": [
        "import torch\n",
        "from torch import nn\n",
        "import torch.nn.functional as F\n",
        "print(torch.__version__)\n",
        "\n",
        "import numpy as np"
      ],
      "execution_count": null,
      "outputs": [
        {
          "output_type": "stream",
          "name": "stdout",
          "text": [
            "2.1.0+cu121\n"
          ]
        }
      ]
    },
    {
      "cell_type": "markdown",
      "metadata": {
        "id": "OijIFjZqiSrN"
      },
      "source": [
        "## Tensor - basic unit of representation"
      ]
    },
    {
      "cell_type": "markdown",
      "metadata": {
        "id": "eDPNIiaeiSrN"
      },
      "source": [
        "* Tensor:\n",
        "    * [Formal] An nth-rank tensor in  m-dimensional space is a mathematical object that has n indices and m^n components and obeys certain transformation rules.\n",
        "    * [Informal] An n-dimensional matrix."
      ]
    },
    {
      "cell_type": "code",
      "metadata": {
        "id": "VSdTdxT5iSrQ",
        "colab": {
          "base_uri": "https://localhost:8080/"
        },
        "outputId": "42193323-a624-42e0-a52a-76e48c59774a"
      },
      "source": [
        "torch.FloatTensor(np.random.randn(10,5))"
      ],
      "execution_count": null,
      "outputs": [
        {
          "output_type": "execute_result",
          "data": {
            "text/plain": [
              "tensor([[-1.3327, -1.0318,  1.0795, -0.7287,  0.9532],\n",
              "        [-1.2961,  0.2298,  0.5695,  0.1179,  0.9346],\n",
              "        [ 1.4082, -0.8558, -0.7098, -0.5607, -1.0040],\n",
              "        [ 0.1338,  1.4050, -0.0794, -0.1851, -0.2972],\n",
              "        [-0.3347, -1.4563, -0.4792,  0.6049, -1.1870],\n",
              "        [-0.0572, -1.2766,  1.9515,  0.8081,  0.2033],\n",
              "        [-0.7248, -0.2511, -0.3619, -1.2093,  0.0409],\n",
              "        [-0.4883,  0.1910,  1.4972, -0.0207, -0.8428],\n",
              "        [-1.4065, -1.3832, -1.0319,  1.3215, -0.1393],\n",
              "        [-0.0472, -0.5751, -0.1017,  0.5011,  0.2971]])"
            ]
          },
          "metadata": {},
          "execution_count": 2
        }
      ]
    },
    {
      "cell_type": "markdown",
      "metadata": {
        "id": "ZwWFTf2tiSrU"
      },
      "source": [
        "## Size and Stride of Tensor"
      ]
    },
    {
      "cell_type": "code",
      "metadata": {
        "id": "5t6Nt3-BiSrU"
      },
      "source": [
        "x = torch.LongTensor(\n",
        "    [\n",
        "       [\n",
        "           [1,2],\n",
        "           [3,4]\n",
        "       ],\n",
        "\n",
        "       [\n",
        "           [5,6],\n",
        "           [7,8]\n",
        "       ],\n",
        "\n",
        "       [\n",
        "           [9,10],\n",
        "           [11,12]\n",
        "       ]\n",
        "    ])\n",
        "\n",
        "x_2d = torch.LongTensor([[1,2],\n",
        "                         [3,4]])"
      ],
      "execution_count": null,
      "outputs": []
    },
    {
      "cell_type": "code",
      "metadata": {
        "id": "P4sgaj64iSrW",
        "colab": {
          "base_uri": "https://localhost:8080/"
        },
        "outputId": "5b45c020-ee99-43d6-d2b9-0e9170b834e7"
      },
      "source": [
        "x_2d.shape"
      ],
      "execution_count": null,
      "outputs": [
        {
          "output_type": "execute_result",
          "data": {
            "text/plain": [
              "torch.Size([2, 2])"
            ]
          },
          "metadata": {},
          "execution_count": 7
        }
      ]
    },
    {
      "cell_type": "code",
      "source": [
        "x_2d.stride()"
      ],
      "metadata": {
        "id": "7ArRQ_haVfBa",
        "colab": {
          "base_uri": "https://localhost:8080/"
        },
        "outputId": "d968bcce-d013-43a4-85c5-8fb50ef33e44"
      },
      "execution_count": null,
      "outputs": [
        {
          "output_type": "execute_result",
          "data": {
            "text/plain": [
              "(2, 1)"
            ]
          },
          "metadata": {},
          "execution_count": 8
        }
      ]
    },
    {
      "cell_type": "markdown",
      "metadata": {
        "id": "mX2WRerOiSrk"
      },
      "source": [
        "<b> Reshape/View </b>"
      ]
    },
    {
      "cell_type": "code",
      "metadata": {
        "id": "YPQCVxCCiSrk",
        "colab": {
          "base_uri": "https://localhost:8080/"
        },
        "outputId": "06f82548-d5eb-4868-9473-40b551f1ad99"
      },
      "source": [
        "x.reshape(-1)"
      ],
      "execution_count": null,
      "outputs": [
        {
          "output_type": "execute_result",
          "data": {
            "text/plain": [
              "tensor([ 1,  2,  3,  4,  5,  6,  7,  8,  9, 10, 11, 12])"
            ]
          },
          "metadata": {},
          "execution_count": 11
        }
      ]
    },
    {
      "cell_type": "code",
      "source": [
        "x.reshape(6,-1)"
      ],
      "metadata": {
        "id": "_K79CVUVioEL",
        "colab": {
          "base_uri": "https://localhost:8080/"
        },
        "outputId": "2b680516-925f-4b70-9de3-9f0301f39fe6"
      },
      "execution_count": null,
      "outputs": [
        {
          "output_type": "execute_result",
          "data": {
            "text/plain": [
              "tensor([[ 1,  2],\n",
              "        [ 3,  4],\n",
              "        [ 5,  6],\n",
              "        [ 7,  8],\n",
              "        [ 9, 10],\n",
              "        [11, 12]])"
            ]
          },
          "metadata": {},
          "execution_count": 12
        }
      ]
    },
    {
      "cell_type": "markdown",
      "metadata": {
        "id": "gZCBFgQ_iSre"
      },
      "source": [
        "<b> Transpose </b>"
      ]
    },
    {
      "cell_type": "markdown",
      "metadata": {
        "id": "RW01Fu4iklq1"
      },
      "source": [
        ".t , .transpose and .permute"
      ]
    },
    {
      "cell_type": "code",
      "metadata": {
        "id": "C8wuWbotiSrh",
        "colab": {
          "base_uri": "https://localhost:8080/"
        },
        "outputId": "3702c4a6-a4aa-4517-8d16-0b761d4c401e"
      },
      "source": [
        "x.stride()"
      ],
      "execution_count": null,
      "outputs": [
        {
          "output_type": "execute_result",
          "data": {
            "text/plain": [
              "(4, 2, 1)"
            ]
          },
          "metadata": {},
          "execution_count": 15
        }
      ]
    },
    {
      "cell_type": "code",
      "source": [
        "x.permute(2,1,0).stride()"
      ],
      "metadata": {
        "id": "b1T_Dmmvi69C",
        "colab": {
          "base_uri": "https://localhost:8080/"
        },
        "outputId": "d061baab-4850-438d-9530-e003beaa5a7d"
      },
      "execution_count": null,
      "outputs": [
        {
          "output_type": "execute_result",
          "data": {
            "text/plain": [
              "(1, 2, 4)"
            ]
          },
          "metadata": {},
          "execution_count": 20
        }
      ]
    },
    {
      "cell_type": "markdown",
      "metadata": {
        "id": "R3sWpv4TklrD"
      },
      "source": [
        "<b> Mechanics of Transpose and Reshape </b>\n",
        "\n",
        ".contiguous, .storage, .data_ptr"
      ]
    },
    {
      "cell_type": "code",
      "source": [
        "x_2d.t().contiguous().stride()"
      ],
      "metadata": {
        "colab": {
          "base_uri": "https://localhost:8080/"
        },
        "id": "04EA3Jcdtt8t",
        "outputId": "d6de3510-19cb-48f8-ec1a-d1caff382fff"
      },
      "execution_count": null,
      "outputs": [
        {
          "output_type": "execute_result",
          "data": {
            "text/plain": [
              "(2, 1)"
            ]
          },
          "metadata": {},
          "execution_count": 30
        }
      ]
    },
    {
      "cell_type": "code",
      "source": [
        "x_2d.t().contiguous().storage().data_ptr()==x_2d.storage().data_ptr()"
      ],
      "metadata": {
        "id": "DUFBWHs1jQH9",
        "colab": {
          "base_uri": "https://localhost:8080/"
        },
        "outputId": "93d35717-1d51-416b-f4e3-bd015d13918c"
      },
      "execution_count": null,
      "outputs": [
        {
          "output_type": "execute_result",
          "data": {
            "text/plain": [
              "False"
            ]
          },
          "metadata": {},
          "execution_count": 27
        }
      ]
    },
    {
      "cell_type": "markdown",
      "metadata": {
        "id": "S9ecFPogiSrw"
      },
      "source": [
        "#### Exercise"
      ]
    },
    {
      "cell_type": "markdown",
      "metadata": {
        "id": "amk708m9iSrw"
      },
      "source": [
        "Reshape x into a 2D matrix such that column 1 has [1,2,3,4]; column 2 has [5,6,7,8] and column 3 has [9,10,11,12].\n",
        "\n",
        "Challenge: Can you give another way of achieving the same?"
      ]
    },
    {
      "cell_type": "code",
      "metadata": {
        "id": "ijgOZgjUklrH"
      },
      "source": [
        "x"
      ],
      "execution_count": null,
      "outputs": []
    },
    {
      "cell_type": "code",
      "metadata": {
        "id": "DFeh8koviSrx"
      },
      "source": [],
      "execution_count": null,
      "outputs": []
    },
    {
      "cell_type": "markdown",
      "metadata": {
        "id": "WGEfdTGCiSr0"
      },
      "source": [
        "## Arithmetic operations"
      ]
    },
    {
      "cell_type": "markdown",
      "metadata": {
        "id": "xXzysdhoiSr0"
      },
      "source": [
        "<b> Addition/Subtraction </b>"
      ]
    },
    {
      "cell_type": "code",
      "metadata": {
        "id": "qqyO0VrxiSr1",
        "colab": {
          "base_uri": "https://localhost:8080/"
        },
        "outputId": "8c20d08b-25e3-4600-9e8b-12f8ab2a65cc"
      },
      "source": [
        "x"
      ],
      "execution_count": null,
      "outputs": [
        {
          "output_type": "execute_result",
          "data": {
            "text/plain": [
              "tensor([[[ 1,  2],\n",
              "         [ 3,  4]],\n",
              "\n",
              "        [[ 5,  6],\n",
              "         [ 7,  8]],\n",
              "\n",
              "        [[ 9, 10],\n",
              "         [11, 12]]])"
            ]
          },
          "metadata": {},
          "execution_count": 31
        }
      ]
    },
    {
      "cell_type": "code",
      "metadata": {
        "id": "90OD_SENiSr3",
        "colab": {
          "base_uri": "https://localhost:8080/"
        },
        "outputId": "e5b28912-d45f-4b91-d4c7-9e9c9b342583"
      },
      "source": [
        "x + 1"
      ],
      "execution_count": null,
      "outputs": [
        {
          "output_type": "execute_result",
          "data": {
            "text/plain": [
              "tensor([[[ 2,  3],\n",
              "         [ 4,  5]],\n",
              "\n",
              "        [[ 6,  7],\n",
              "         [ 8,  9]],\n",
              "\n",
              "        [[10, 11],\n",
              "         [12, 13]]])"
            ]
          },
          "metadata": {},
          "execution_count": 32
        }
      ]
    },
    {
      "cell_type": "code",
      "metadata": {
        "id": "QTyW6eBViSr6",
        "colab": {
          "base_uri": "https://localhost:8080/"
        },
        "outputId": "a331df1a-e0e1-4d4b-a686-f08f92b7700b"
      },
      "source": [
        "x + x"
      ],
      "execution_count": null,
      "outputs": [
        {
          "output_type": "execute_result",
          "data": {
            "text/plain": [
              "tensor([[[ 2,  4],\n",
              "         [ 6,  8]],\n",
              "\n",
              "        [[10, 12],\n",
              "         [14, 16]],\n",
              "\n",
              "        [[18, 20],\n",
              "         [22, 24]]])"
            ]
          },
          "metadata": {},
          "execution_count": 33
        }
      ]
    },
    {
      "cell_type": "markdown",
      "metadata": {
        "id": "k1Tz0umiiSr9"
      },
      "source": [
        "<b> Multiplication </b>"
      ]
    },
    {
      "cell_type": "code",
      "metadata": {
        "id": "fq8AzLDxuQBh",
        "colab": {
          "base_uri": "https://localhost:8080/"
        },
        "outputId": "3d0c457c-36bc-4f30-860b-627e9a093d4b"
      },
      "source": [
        "x_2d"
      ],
      "execution_count": null,
      "outputs": [
        {
          "output_type": "execute_result",
          "data": {
            "text/plain": [
              "tensor([[1, 2],\n",
              "        [3, 4]])"
            ]
          },
          "metadata": {},
          "execution_count": 34
        }
      ]
    },
    {
      "cell_type": "code",
      "metadata": {
        "id": "paXk25c7iSr9",
        "colab": {
          "base_uri": "https://localhost:8080/"
        },
        "outputId": "07607c2b-75b6-4ed8-ab77-6222ad02348a"
      },
      "source": [
        "x_2d * 5"
      ],
      "execution_count": null,
      "outputs": [
        {
          "output_type": "execute_result",
          "data": {
            "text/plain": [
              "tensor([[ 5, 10],\n",
              "        [15, 20]])"
            ]
          },
          "metadata": {},
          "execution_count": 35
        }
      ]
    },
    {
      "cell_type": "code",
      "metadata": {
        "id": "GnuWV5ZNiSsC",
        "colab": {
          "base_uri": "https://localhost:8080/"
        },
        "outputId": "79514584-f839-4f73-c6f8-cfd22f6c9e8b"
      },
      "source": [
        "x_2d / x_2d"
      ],
      "execution_count": null,
      "outputs": [
        {
          "output_type": "execute_result",
          "data": {
            "text/plain": [
              "tensor([[1., 1.],\n",
              "        [1., 1.]])"
            ]
          },
          "metadata": {},
          "execution_count": 38
        }
      ]
    },
    {
      "cell_type": "code",
      "metadata": {
        "id": "96auq6yRiSsE",
        "colab": {
          "base_uri": "https://localhost:8080/"
        },
        "outputId": "ac85c3c4-175a-4803-e986-551355010334"
      },
      "source": [
        "x_2d @ x_2d"
      ],
      "execution_count": null,
      "outputs": [
        {
          "output_type": "execute_result",
          "data": {
            "text/plain": [
              "tensor([[ 7, 10],\n",
              "        [15, 22]])"
            ]
          },
          "metadata": {},
          "execution_count": 37
        }
      ]
    },
    {
      "cell_type": "markdown",
      "metadata": {
        "id": "tp3JHXoiiSsG"
      },
      "source": [
        "<b> Division </b>"
      ]
    },
    {
      "cell_type": "code",
      "metadata": {
        "id": "B9mnMtYvu_qe",
        "colab": {
          "base_uri": "https://localhost:8080/"
        },
        "outputId": "4c0c7346-91ef-4040-aa20-356aaec4893d"
      },
      "source": [
        "x_2d.dtype"
      ],
      "execution_count": null,
      "outputs": [
        {
          "output_type": "execute_result",
          "data": {
            "text/plain": [
              "torch.int64"
            ]
          },
          "metadata": {},
          "execution_count": 42
        }
      ]
    },
    {
      "cell_type": "code",
      "metadata": {
        "id": "qdkPAdmoiSsI",
        "colab": {
          "base_uri": "https://localhost:8080/"
        },
        "outputId": "5538334c-2797-4686-fdb5-0d78a6e2a144"
      },
      "source": [
        "x_2d/3"
      ],
      "execution_count": null,
      "outputs": [
        {
          "output_type": "execute_result",
          "data": {
            "text/plain": [
              "tensor([[0.3333, 0.6667],\n",
              "        [1.0000, 1.3333]])"
            ]
          },
          "metadata": {},
          "execution_count": 40
        }
      ]
    },
    {
      "cell_type": "code",
      "metadata": {
        "id": "zOPYcM4UiSsL",
        "colab": {
          "base_uri": "https://localhost:8080/"
        },
        "outputId": "92967d12-450d-4c12-cf8e-39086d958a0b"
      },
      "source": [
        "(x_2d/x_2d).dtype"
      ],
      "execution_count": null,
      "outputs": [
        {
          "output_type": "execute_result",
          "data": {
            "text/plain": [
              "torch.float32"
            ]
          },
          "metadata": {},
          "execution_count": 43
        }
      ]
    },
    {
      "cell_type": "markdown",
      "metadata": {
        "id": "Oy_VIOhciSsO"
      },
      "source": [
        "<b> Broadcasting </b> <br>\n",
        "Broadcasting is \"auto-correction\" of one of the arguments in order to bring them to the correct dimensions.\n",
        "* Replicates the 1/more dimensions of one or both the tensors to match them.\n",
        "* From Scipy:\n",
        "<pre>\n",
        "When operating on two arrays, NumPy compares their shapes element-wise. It starts with\n",
        "the trailing dimensions, and works its way forward. Two dimensions are compatible when:\n",
        "    * they are equal, or\n",
        "    * one of them is 1\n",
        "</pre>\n",
        "* Makes a best effort to auto-correct; throws error if it cannot.\n",
        "* Not applicable to all operators."
      ]
    },
    {
      "cell_type": "code",
      "metadata": {
        "id": "qoI_DMziiSsP",
        "colab": {
          "base_uri": "https://localhost:8080/"
        },
        "outputId": "18131937-3ef4-4b1e-af53-99cb9e247f88"
      },
      "source": [
        "x_2d"
      ],
      "execution_count": null,
      "outputs": [
        {
          "output_type": "execute_result",
          "data": {
            "text/plain": [
              "tensor([[1, 2],\n",
              "        [3, 4]])"
            ]
          },
          "metadata": {},
          "execution_count": 44
        }
      ]
    },
    {
      "cell_type": "code",
      "metadata": {
        "id": "a5TA2WW1iSsU",
        "colab": {
          "base_uri": "https://localhost:8080/"
        },
        "outputId": "a34ca01d-363a-4e02-97d7-86ec2d707721"
      },
      "source": [
        "y = np.array([[1,2]])\n",
        "print(x_2d.shape,y.shape)\n",
        "x_2d + y"
      ],
      "execution_count": null,
      "outputs": [
        {
          "output_type": "stream",
          "name": "stdout",
          "text": [
            "torch.Size([2, 2]) (1, 2)\n"
          ]
        },
        {
          "output_type": "execute_result",
          "data": {
            "text/plain": [
              "tensor([[2, 4],\n",
              "        [4, 6]])"
            ]
          },
          "metadata": {},
          "execution_count": 45
        }
      ]
    },
    {
      "cell_type": "code",
      "metadata": {
        "id": "nf3JFR5DiSsX",
        "colab": {
          "base_uri": "https://localhost:8080/"
        },
        "outputId": "b2595310-261a-4ae7-c6b9-e0bd2bcc86cd"
      },
      "source": [
        "y = np.array([[1],[2]])\n",
        "print(x_2d.shape, y.shape)\n",
        "x_2d + y"
      ],
      "execution_count": null,
      "outputs": [
        {
          "output_type": "stream",
          "name": "stdout",
          "text": [
            "torch.Size([2, 2]) (2, 1)\n"
          ]
        },
        {
          "output_type": "execute_result",
          "data": {
            "text/plain": [
              "tensor([[2, 3],\n",
              "        [5, 6]])"
            ]
          },
          "metadata": {},
          "execution_count": 46
        }
      ]
    },
    {
      "cell_type": "code",
      "metadata": {
        "id": "bG9oDK_HiSsZ",
        "colab": {
          "base_uri": "https://localhost:8080/"
        },
        "outputId": "bf9aa3f4-41bf-48c5-e386-7fd19477a9a6"
      },
      "source": [
        "y = np.array([[1,2]])\n",
        "print(x.shape, y.shape)\n",
        "x * y"
      ],
      "execution_count": null,
      "outputs": [
        {
          "output_type": "stream",
          "name": "stdout",
          "text": [
            "torch.Size([3, 2, 2]) (1, 2)\n"
          ]
        },
        {
          "output_type": "execute_result",
          "data": {
            "text/plain": [
              "tensor([[[ 1,  4],\n",
              "         [ 3,  8]],\n",
              "\n",
              "        [[ 5, 12],\n",
              "         [ 7, 16]],\n",
              "\n",
              "        [[ 9, 20],\n",
              "         [11, 24]]])"
            ]
          },
          "metadata": {},
          "execution_count": 47
        }
      ]
    },
    {
      "cell_type": "code",
      "metadata": {
        "id": "8amS--kWiSse",
        "colab": {
          "base_uri": "https://localhost:8080/"
        },
        "outputId": "c1d3bfda-7802-4d17-8491-b160b847c1f2"
      },
      "source": [
        "y = np.array([[1],[2]])\n",
        "print(x_2d.shape, y.shape)\n",
        "x_2d * y"
      ],
      "execution_count": null,
      "outputs": [
        {
          "output_type": "stream",
          "name": "stdout",
          "text": [
            "torch.Size([2, 2]) (2, 1)\n"
          ]
        },
        {
          "output_type": "execute_result",
          "data": {
            "text/plain": [
              "tensor([[1, 2],\n",
              "        [6, 8]])"
            ]
          },
          "metadata": {},
          "execution_count": 48
        }
      ]
    },
    {
      "cell_type": "code",
      "metadata": {
        "id": "UjRVjJJOiSsg",
        "colab": {
          "base_uri": "https://localhost:8080/"
        },
        "outputId": "3b7f956e-90ff-4e3b-b695-b07476bc5ee8"
      },
      "source": [
        "y = np.array([[1,2]])\n",
        "print(x_2d.shape, y.shape)\n",
        "x_2d / y"
      ],
      "execution_count": null,
      "outputs": [
        {
          "output_type": "stream",
          "name": "stdout",
          "text": [
            "torch.Size([2, 2]) (1, 2)\n"
          ]
        },
        {
          "output_type": "execute_result",
          "data": {
            "text/plain": [
              "tensor([[1., 1.],\n",
              "        [3., 2.]], dtype=torch.float64)"
            ]
          },
          "metadata": {},
          "execution_count": 49
        }
      ]
    },
    {
      "cell_type": "code",
      "metadata": {
        "id": "ydMTdHaIiSsi",
        "colab": {
          "base_uri": "https://localhost:8080/"
        },
        "outputId": "402bdb95-a656-4ba0-cf80-bc18a352ba4f"
      },
      "source": [
        "y = np.array([[1],[2]])\n",
        "print(x_2d.shape, y.shape)\n",
        "x_2d / y"
      ],
      "execution_count": null,
      "outputs": [
        {
          "output_type": "stream",
          "name": "stdout",
          "text": [
            "torch.Size([2, 2]) (2, 1)\n"
          ]
        },
        {
          "output_type": "execute_result",
          "data": {
            "text/plain": [
              "tensor([[1.0000, 2.0000],\n",
              "        [1.5000, 2.0000]], dtype=torch.float64)"
            ]
          },
          "metadata": {},
          "execution_count": 50
        }
      ]
    },
    {
      "cell_type": "markdown",
      "metadata": {
        "id": "6bdqFpLViSsl"
      },
      "source": [
        "<b>Perils of broadcasting</b>"
      ]
    },
    {
      "cell_type": "code",
      "metadata": {
        "id": "dQn9eEmSiSsl",
        "colab": {
          "base_uri": "https://localhost:8080/"
        },
        "outputId": "a657d695-cec6-40fe-e866-a519c3a03252"
      },
      "source": [
        "p = torch.FloatTensor([[1],[2],[3]]).view(-1)\n",
        "q = torch.FloatTensor([4,5,6])\n",
        "print(p.shape,q.shape)\n",
        "p+q"
      ],
      "execution_count": null,
      "outputs": [
        {
          "output_type": "stream",
          "name": "stdout",
          "text": [
            "torch.Size([3]) torch.Size([3])\n"
          ]
        },
        {
          "output_type": "execute_result",
          "data": {
            "text/plain": [
              "tensor([5., 7., 9.])"
            ]
          },
          "metadata": {},
          "execution_count": 54
        }
      ]
    },
    {
      "cell_type": "markdown",
      "metadata": {
        "id": "khVJIk4XiSso"
      },
      "source": [
        "## Idea of dim"
      ]
    },
    {
      "cell_type": "code",
      "metadata": {
        "id": "8bOFToI7iSsp"
      },
      "source": [
        "y = torch.LongTensor([[1,2,5],\n",
        "                      [3,4,6]])"
      ],
      "execution_count": null,
      "outputs": []
    },
    {
      "cell_type": "code",
      "metadata": {
        "id": "6SIO4RS9iSsu",
        "colab": {
          "base_uri": "https://localhost:8080/"
        },
        "outputId": "1d1b7013-fa2e-4f8a-8ff1-4a055f2d9ea2"
      },
      "source": [
        "y.sum(dim=1)"
      ],
      "execution_count": null,
      "outputs": [
        {
          "output_type": "execute_result",
          "data": {
            "text/plain": [
              "tensor([ 8, 13])"
            ]
          },
          "metadata": {},
          "execution_count": 62
        }
      ]
    },
    {
      "cell_type": "code",
      "source": [
        "y.sum(dim=0)"
      ],
      "metadata": {
        "colab": {
          "base_uri": "https://localhost:8080/"
        },
        "id": "Byo34pbRy80c",
        "outputId": "6a22966a-4d42-4609-c0fe-fb569dc386c8"
      },
      "execution_count": null,
      "outputs": [
        {
          "output_type": "execute_result",
          "data": {
            "text/plain": [
              "tensor([ 4,  6, 11])"
            ]
          },
          "metadata": {},
          "execution_count": 63
        }
      ]
    },
    {
      "cell_type": "code",
      "source": [
        "y.sum(dim=0,keepdims=True).shape"
      ],
      "metadata": {
        "colab": {
          "base_uri": "https://localhost:8080/"
        },
        "id": "VnfqUHXszUSF",
        "outputId": "d3dbb94d-5335-4a27-9411-f99995f99b7d"
      },
      "execution_count": null,
      "outputs": [
        {
          "output_type": "execute_result",
          "data": {
            "text/plain": [
              "torch.Size([1, 3])"
            ]
          },
          "metadata": {},
          "execution_count": 69
        }
      ]
    },
    {
      "cell_type": "code",
      "source": [
        "x_2d"
      ],
      "metadata": {
        "colab": {
          "base_uri": "https://localhost:8080/"
        },
        "id": "_J0xuBjsz8Zm",
        "outputId": "0854422f-c57a-405f-9f07-37c65f70e4df"
      },
      "execution_count": null,
      "outputs": [
        {
          "output_type": "execute_result",
          "data": {
            "text/plain": [
              "tensor([[1, 2],\n",
              "        [3, 4]])"
            ]
          },
          "metadata": {},
          "execution_count": 71
        }
      ]
    },
    {
      "cell_type": "code",
      "metadata": {
        "id": "hdLIvMKwiSsx",
        "colab": {
          "base_uri": "https://localhost:8080/"
        },
        "outputId": "805e5456-e1fd-4780-8c6f-028d1d9bc82d"
      },
      "source": [
        "F.softmax(x_2d.float(),dim=0)"
      ],
      "execution_count": null,
      "outputs": [
        {
          "output_type": "execute_result",
          "data": {
            "text/plain": [
              "tensor([[0.1192, 0.1192],\n",
              "        [0.8808, 0.8808]])"
            ]
          },
          "metadata": {},
          "execution_count": 70
        }
      ]
    },
    {
      "cell_type": "markdown",
      "metadata": {
        "id": "uIl-4WSqiSs0"
      },
      "source": [
        "**Unary Tensor functions**"
      ]
    },
    {
      "cell_type": "markdown",
      "metadata": {
        "id": "9EtPz2MhklsH"
      },
      "source": [
        "sum, mean, max, min, etc"
      ]
    },
    {
      "cell_type": "code",
      "metadata": {
        "id": "0d9VdKxeklsI"
      },
      "source": [
        "x_2d"
      ],
      "execution_count": null,
      "outputs": []
    },
    {
      "cell_type": "code",
      "metadata": {
        "id": "ijw0QPyPiSs0"
      },
      "source": [
        "x_2d.sum()"
      ],
      "execution_count": null,
      "outputs": []
    },
    {
      "cell_type": "code",
      "metadata": {
        "id": "jozaHYPDiSs2"
      },
      "source": [
        "x_2d.sum(dim=1)"
      ],
      "execution_count": null,
      "outputs": []
    },
    {
      "cell_type": "code",
      "metadata": {
        "id": "35ucLMG-iSs8"
      },
      "source": [
        "x_2d.sum(dim=1)"
      ],
      "execution_count": null,
      "outputs": []
    },
    {
      "cell_type": "code",
      "metadata": {
        "id": "ysnG16M4iStA"
      },
      "source": [
        "x_2d.sum(dim=1,keepdims=True)"
      ],
      "execution_count": null,
      "outputs": []
    },
    {
      "cell_type": "code",
      "metadata": {
        "id": "WJ1aR91_4PNj",
        "colab": {
          "base_uri": "https://localhost:8080/"
        },
        "outputId": "15a89ad3-3370-4354-fb13-1c779ef1edf6"
      },
      "source": [
        "x_2d = x_2d\n",
        "torch.exp(x_2d)/torch.exp(x_2d).sum(dim=0,keepdims=True)"
      ],
      "execution_count": null,
      "outputs": [
        {
          "output_type": "execute_result",
          "data": {
            "text/plain": [
              "tensor([[0.1192, 0.1192],\n",
              "        [0.8808, 0.8808]])"
            ]
          },
          "metadata": {},
          "execution_count": 75
        }
      ]
    },
    {
      "cell_type": "markdown",
      "metadata": {
        "id": "vmPPse_5iStE"
      },
      "source": [
        "<b> Exercise </b> <br>\n",
        "Find the sum of each of the 2x2 matrices of x."
      ]
    },
    {
      "cell_type": "code",
      "metadata": {
        "id": "w-pq-T4PiStE"
      },
      "source": [
        "x"
      ],
      "execution_count": null,
      "outputs": []
    },
    {
      "cell_type": "code",
      "metadata": {
        "id": "3m194SJe4drE"
      },
      "source": [],
      "execution_count": null,
      "outputs": []
    },
    {
      "cell_type": "markdown",
      "metadata": {
        "id": "WGNyfZjrklsa"
      },
      "source": [
        "Other important/useful functions:\n",
        "- torch.log\n",
        "- torch.abs\n",
        "- torch.exp\n",
        "- torch.cat\n",
        "- torch.stack\n",
        "- torch.where\n",
        "- F.leaky_relu, F.sigmoid, F.tanh, F.conv*, etc"
      ]
    },
    {
      "cell_type": "markdown",
      "metadata": {
        "id": "47dHH5hpklsb"
      },
      "source": [
        "## Autograd"
      ]
    },
    {
      "cell_type": "markdown",
      "metadata": {
        "id": "Qj81boeDklsb"
      },
      "source": [
        "Derivatives: grad,  retain_graph, create_graph"
      ]
    },
    {
      "cell_type": "code",
      "metadata": {
        "id": "rv-Yr0VFklsc",
        "colab": {
          "base_uri": "https://localhost:8080/"
        },
        "outputId": "ee612aff-10c3-42a8-b72e-9859f7b9c850"
      },
      "source": [
        "x = torch.FloatTensor([1]).requires_grad_(True)\n",
        "y = torch.FloatTensor([2])\n",
        "y.requires_grad = (True)\n",
        "f = x**3 + y**2\n",
        "\n",
        "print(torch.autograd.grad(f,x,retain_graph=True)[0])\n",
        "print(torch.autograd.grad(f,y,retain_graph=True)[0])\n",
        "\n",
        "df_dx = torch.autograd.grad(f,x,retain_graph=True,create_graph=True)[0]\n",
        "\n",
        "torch.autograd.grad(df_dx,x)"
      ],
      "execution_count": null,
      "outputs": [
        {
          "output_type": "stream",
          "name": "stdout",
          "text": [
            "tensor([3.])\n",
            "tensor([4.])\n"
          ]
        },
        {
          "output_type": "execute_result",
          "data": {
            "text/plain": [
              "(tensor([6.]),)"
            ]
          },
          "metadata": {},
          "execution_count": 85
        }
      ]
    },
    {
      "cell_type": "markdown",
      "source": [
        "Exercise: Taylor-Series, jacobian-vector products and vector-jacobian products\n",
        "- Fill out the code to compute the jacobian matrix.\n",
        "- Confirm that the jacobian matrix is correctly computed by constructing a linear approximation of the following network.\n",
        "- Finally, fill out the jvp method to directly compute the jacobian-vector products without computing the entire jacobian matrix. Confirm the correctness of this method."
      ],
      "metadata": {
        "id": "ofFImYBTe7P7"
      }
    },
    {
      "cell_type": "code",
      "source": [
        "class Act(nn.Module):\n",
        "  def __init__(self):\n",
        "    super().__init__()\n",
        "\n",
        "  def forward(self, x):\n",
        "    return (x)\n",
        "\n",
        "class Net(nn.Module):\n",
        "  def __init__(self,num_dims=3):\n",
        "    super().__init__()\n",
        "    torch.random.manual_seed(23)\n",
        "\n",
        "    self.num_dims = num_dims\n",
        "    self.net = nn.Sequential(\n",
        "        nn.Linear(num_dims,1024),\n",
        "        Act(),\n",
        "        nn.Linear(1024,num_dims+2)\n",
        "    )\n",
        "\n",
        "  def forward(self, x):\n",
        "    return self.net(x)\n",
        "\n",
        "  def jacobian(self, x):\n",
        "    # write code here\n",
        "    y = self.forward(x)\n",
        "    jacobian_matrix = torch.zeros(x.shape[0], self.out_dims, self.num_dims)\n",
        "    for column in range(y.shape[1]):\n",
        "      gradients = torch.autograd.grad(y[:, column].sum(), x, retain_graph = True)\n",
        "      jacobian_matrix = gradients[:, column, :]\n",
        "    print(y.shape)\n",
        "    return jacobian_matrix\n",
        "\n",
        "\n",
        "  def jvp(self, x, v):\n",
        "    # write code here\n",
        "    pass"
      ],
      "metadata": {
        "id": "74N5cG-Re5j4"
      },
      "execution_count": null,
      "outputs": []
    },
    {
      "cell_type": "code",
      "source": [
        "f = Net()\n",
        "x = torch.arange(9).float().reshape(3,3)\n",
        "f.jacobian(x)"
      ],
      "metadata": {
        "id": "_RmunMIif8Lp",
        "colab": {
          "base_uri": "https://localhost:8080/",
          "height": 367
        },
        "outputId": "11d750ea-d64a-44c0-ebd5-3025586fd159"
      },
      "execution_count": null,
      "outputs": [
        {
          "output_type": "error",
          "ename": "AttributeError",
          "evalue": "'Net' object has no attribute 'out_dims'",
          "traceback": [
            "\u001b[0;31m---------------------------------------------------------------------------\u001b[0m",
            "\u001b[0;31mAttributeError\u001b[0m                            Traceback (most recent call last)",
            "\u001b[0;32m<ipython-input-11-f6632a49f166>\u001b[0m in \u001b[0;36m<cell line: 3>\u001b[0;34m()\u001b[0m\n\u001b[1;32m      1\u001b[0m \u001b[0mf\u001b[0m \u001b[0;34m=\u001b[0m \u001b[0mNet\u001b[0m\u001b[0;34m(\u001b[0m\u001b[0;34m)\u001b[0m\u001b[0;34m\u001b[0m\u001b[0;34m\u001b[0m\u001b[0m\n\u001b[1;32m      2\u001b[0m \u001b[0mx\u001b[0m \u001b[0;34m=\u001b[0m \u001b[0mtorch\u001b[0m\u001b[0;34m.\u001b[0m\u001b[0marange\u001b[0m\u001b[0;34m(\u001b[0m\u001b[0;36m9\u001b[0m\u001b[0;34m)\u001b[0m\u001b[0;34m.\u001b[0m\u001b[0mfloat\u001b[0m\u001b[0;34m(\u001b[0m\u001b[0;34m)\u001b[0m\u001b[0;34m.\u001b[0m\u001b[0mreshape\u001b[0m\u001b[0;34m(\u001b[0m\u001b[0;36m3\u001b[0m\u001b[0;34m,\u001b[0m\u001b[0;36m3\u001b[0m\u001b[0;34m)\u001b[0m\u001b[0;34m\u001b[0m\u001b[0;34m\u001b[0m\u001b[0m\n\u001b[0;32m----> 3\u001b[0;31m \u001b[0mf\u001b[0m\u001b[0;34m.\u001b[0m\u001b[0mjacobian\u001b[0m\u001b[0;34m(\u001b[0m\u001b[0mx\u001b[0m\u001b[0;34m)\u001b[0m\u001b[0;34m\u001b[0m\u001b[0;34m\u001b[0m\u001b[0m\n\u001b[0m",
            "\u001b[0;32m<ipython-input-10-5d0473cd0ebf>\u001b[0m in \u001b[0;36mjacobian\u001b[0;34m(self, x)\u001b[0m\n\u001b[1;32m     24\u001b[0m     \u001b[0;31m# write code here\u001b[0m\u001b[0;34m\u001b[0m\u001b[0;34m\u001b[0m\u001b[0m\n\u001b[1;32m     25\u001b[0m     \u001b[0my\u001b[0m \u001b[0;34m=\u001b[0m \u001b[0mself\u001b[0m\u001b[0;34m.\u001b[0m\u001b[0mforward\u001b[0m\u001b[0;34m(\u001b[0m\u001b[0mx\u001b[0m\u001b[0;34m)\u001b[0m\u001b[0;34m\u001b[0m\u001b[0;34m\u001b[0m\u001b[0m\n\u001b[0;32m---> 26\u001b[0;31m     \u001b[0mjacobian_matrix\u001b[0m \u001b[0;34m=\u001b[0m \u001b[0mtorch\u001b[0m\u001b[0;34m.\u001b[0m\u001b[0mzeros\u001b[0m\u001b[0;34m(\u001b[0m\u001b[0mx\u001b[0m\u001b[0;34m.\u001b[0m\u001b[0mshape\u001b[0m\u001b[0;34m[\u001b[0m\u001b[0;36m0\u001b[0m\u001b[0;34m]\u001b[0m\u001b[0;34m,\u001b[0m \u001b[0mself\u001b[0m\u001b[0;34m.\u001b[0m\u001b[0mout_dims\u001b[0m\u001b[0;34m,\u001b[0m \u001b[0mself\u001b[0m\u001b[0;34m.\u001b[0m\u001b[0mnum_dims\u001b[0m\u001b[0;34m)\u001b[0m\u001b[0;34m\u001b[0m\u001b[0;34m\u001b[0m\u001b[0m\n\u001b[0m\u001b[1;32m     27\u001b[0m     \u001b[0;32mfor\u001b[0m \u001b[0mcolumn\u001b[0m \u001b[0;32min\u001b[0m \u001b[0mrange\u001b[0m\u001b[0;34m(\u001b[0m\u001b[0my\u001b[0m\u001b[0;34m.\u001b[0m\u001b[0mshape\u001b[0m\u001b[0;34m[\u001b[0m\u001b[0;36m1\u001b[0m\u001b[0;34m]\u001b[0m\u001b[0;34m)\u001b[0m\u001b[0;34m:\u001b[0m\u001b[0;34m\u001b[0m\u001b[0;34m\u001b[0m\u001b[0m\n\u001b[1;32m     28\u001b[0m       \u001b[0mgradients\u001b[0m \u001b[0;34m=\u001b[0m \u001b[0mtorch\u001b[0m\u001b[0;34m.\u001b[0m\u001b[0mautograd\u001b[0m\u001b[0;34m.\u001b[0m\u001b[0mgrad\u001b[0m\u001b[0;34m(\u001b[0m\u001b[0my\u001b[0m\u001b[0;34m[\u001b[0m\u001b[0;34m:\u001b[0m\u001b[0;34m,\u001b[0m \u001b[0mcolumn\u001b[0m\u001b[0;34m]\u001b[0m\u001b[0;34m.\u001b[0m\u001b[0msum\u001b[0m\u001b[0;34m(\u001b[0m\u001b[0;34m)\u001b[0m\u001b[0;34m,\u001b[0m \u001b[0mx\u001b[0m\u001b[0;34m,\u001b[0m \u001b[0mretain_graph\u001b[0m \u001b[0;34m=\u001b[0m \u001b[0;32mTrue\u001b[0m\u001b[0;34m)\u001b[0m\u001b[0;34m\u001b[0m\u001b[0;34m\u001b[0m\u001b[0m\n",
            "\u001b[0;32m/usr/local/lib/python3.10/dist-packages/torch/nn/modules/module.py\u001b[0m in \u001b[0;36m__getattr__\u001b[0;34m(self, name)\u001b[0m\n\u001b[1;32m   1693\u001b[0m             \u001b[0;32mif\u001b[0m \u001b[0mname\u001b[0m \u001b[0;32min\u001b[0m \u001b[0mmodules\u001b[0m\u001b[0;34m:\u001b[0m\u001b[0;34m\u001b[0m\u001b[0;34m\u001b[0m\u001b[0m\n\u001b[1;32m   1694\u001b[0m                 \u001b[0;32mreturn\u001b[0m \u001b[0mmodules\u001b[0m\u001b[0;34m[\u001b[0m\u001b[0mname\u001b[0m\u001b[0;34m]\u001b[0m\u001b[0;34m\u001b[0m\u001b[0;34m\u001b[0m\u001b[0m\n\u001b[0;32m-> 1695\u001b[0;31m         \u001b[0;32mraise\u001b[0m \u001b[0mAttributeError\u001b[0m\u001b[0;34m(\u001b[0m\u001b[0;34mf\"'{type(self).__name__}' object has no attribute '{name}'\"\u001b[0m\u001b[0;34m)\u001b[0m\u001b[0;34m\u001b[0m\u001b[0;34m\u001b[0m\u001b[0m\n\u001b[0m\u001b[1;32m   1696\u001b[0m \u001b[0;34m\u001b[0m\u001b[0m\n\u001b[1;32m   1697\u001b[0m     \u001b[0;32mdef\u001b[0m \u001b[0m__setattr__\u001b[0m\u001b[0;34m(\u001b[0m\u001b[0mself\u001b[0m\u001b[0;34m,\u001b[0m \u001b[0mname\u001b[0m\u001b[0;34m:\u001b[0m \u001b[0mstr\u001b[0m\u001b[0;34m,\u001b[0m \u001b[0mvalue\u001b[0m\u001b[0;34m:\u001b[0m \u001b[0mUnion\u001b[0m\u001b[0;34m[\u001b[0m\u001b[0mTensor\u001b[0m\u001b[0;34m,\u001b[0m \u001b[0;34m'Module'\u001b[0m\u001b[0;34m]\u001b[0m\u001b[0;34m)\u001b[0m \u001b[0;34m->\u001b[0m \u001b[0;32mNone\u001b[0m\u001b[0;34m:\u001b[0m\u001b[0;34m\u001b[0m\u001b[0;34m\u001b[0m\u001b[0m\n",
            "\u001b[0;31mAttributeError\u001b[0m: 'Net' object has no attribute 'out_dims'"
          ]
        }
      ]
    },
    {
      "cell_type": "code",
      "source": [
        "delta = 0.1*torch.ones_like(x)\n",
        "torch.square(f(x+delta)-(f(x)+(f.jacobian(x)@delta.view(delta.shape[0],delta.shape[1],1)).view(x.shape[0],x.shape[1]))).sum()"
      ],
      "metadata": {
        "id": "VSB5hRQcwnHp"
      },
      "execution_count": null,
      "outputs": []
    },
    {
      "cell_type": "markdown",
      "metadata": {
        "id": "JHd8WsSgklse"
      },
      "source": [
        "Leaf Tensors and Optimizers"
      ]
    },
    {
      "cell_type": "code",
      "metadata": {
        "id": "QghzjdWBklsf"
      },
      "source": [
        "w = torch.tensor([[1.0]]).zero_().requires_grad_(True)\n",
        "optim = torch.optim.SGD([w],lr=0.1)"
      ],
      "execution_count": null,
      "outputs": []
    },
    {
      "cell_type": "code",
      "source": [],
      "metadata": {
        "id": "l7NtPUPS00QP"
      },
      "execution_count": null,
      "outputs": []
    }
  ]
}