{
  "nbformat": 4,
  "nbformat_minor": 0,
  "metadata": {
    "kernelspec": {
      "display_name": "Python 3",
      "language": "python",
      "name": "python3"
    },
    "language_info": {
      "codemirror_mode": {
        "name": "ipython",
        "version": 3
      },
      "file_extension": ".py",
      "mimetype": "text/x-python",
      "name": "python",
      "nbconvert_exporter": "python",
      "pygments_lexer": "ipython3",
      "version": "3.7.4"
    },
    "colab": {
      "provenance": []
    }
  },
  "cells": [
    {
      "cell_type": "markdown",
      "metadata": {
        "id": "FWgBoYfGbGLc"
      },
      "source": [
        "<center><h1> Assignment 0 (Background & Warmup) </h1>\n",
        "<h3>Due 9PM Monday 29 January, 2024</h3></center>\n"
      ]
    },
    {
      "cell_type": "markdown",
      "metadata": {
        "id": "c6gwTaw5bGLd"
      },
      "source": [
        "This assignment is designed to confirm your background knowledge in the fundamentals of Linear Algebra, Probability, and Fully-connected Neural Networks. All the imports made in this notebook are as below; if these imports work, you are (mostly) set to complete the assignment. You are encouraged to read/view optional materials as needed, and some information was provided in the recent programming review.\n",
        "\n",
        "Note: Wherever possible, avoid using in-built functions and demonstrate that you know what is going on behind the scenes."
      ]
    },
    {
      "cell_type": "code",
      "metadata": {
        "id": "ziLyp__TbGLe"
      },
      "source": [
        "import numpy as np\n",
        "import requests\n",
        "import io\n",
        "\n",
        "import torch\n",
        "import torch.nn.functional as f"
      ],
      "execution_count": null,
      "outputs": []
    },
    {
      "cell_type": "markdown",
      "metadata": {
        "id": "upOd2gypb7p-"
      },
      "source": [
        "<table>\n",
        "  <tr>\n",
        "    <td>**Section**</td>\n",
        "    <td>**Score**</td>\n",
        "  </tr>\n",
        "  <tr>\n",
        "    <td> Multivariate Gaussians <br> [Q1 + Q2 + Q3] </td>\n",
        "    <td> 3 + 3 + 4 </td>\n",
        "  </tr>\n",
        "  <tr>\n",
        "    <td> Invertible Neural Network <br> [Q1 forward + Q2 invert + Q3 trace estimator] </td>\n",
        "    <td> 2 + 5 + 6</td>\n",
        "  </tr>\n",
        "    <tr>\n",
        "    <td> Logistic Regression </td>\n",
        "    <td> 3 </td>\n",
        "  </tr>\n",
        "  <tr>\n",
        "    <td> **Total**  </td>\n",
        "    <td> **26** </td>\n",
        "  </tr>\n",
        "  </table>"
      ]
    },
    {
      "cell_type": "markdown",
      "metadata": {
        "id": "QFVeD5gRbGLi"
      },
      "source": [
        "# I. Multivariate Gaussians"
      ]
    },
    {
      "cell_type": "markdown",
      "metadata": {
        "id": "IzsaIeAmbGLi"
      },
      "source": [
        "In the following, we will refer to the matrix $\\mathbf{A}_{M\\times M}$ and the column vectors $\\mathbf{y}_{M\\times 1}$, $\\mathbf{x}_{M\\times 1}$ and $\\mu_{M\\times 1}$.\n",
        "\n",
        "\n",
        "[Q1] If $\\mathbf{y} = \\mathbf{A}\\mathbf{x} + \\mu$ and $\\mathbf{x} \\sim N(0,I_M)$ show that:\n",
        "\n",
        "1. $\\mathbb{E}[\\mathbf{y}]=\\mu$\n",
        "2. $\\mathbb{E}[\\left(\\mathbf{y-\\mu}\\right)\\left(\\mathbf{y-\\mu}\\right)^\\top]=\\mathbf{A}\\mathbf{A}^\\top$.\n",
        "\n",
        "[Q2] Fill out the following functions for confirming the above."
      ]
    },
    {
      "cell_type": "code",
      "metadata": {
        "id": "Q72CAEnnbGLj"
      },
      "source": [
        "# Fill out these functions\n",
        "\n",
        "def E_y(ys:np.array):\n",
        "    \"\"\"\n",
        "    ys: A batch of column vectors\n",
        "    return: Mean of the column vectors\n",
        "    \"\"\"\n",
        "    return np.mean(ys, axis=0)\n",
        "\n",
        "def E_yyT(ys:np.array):\n",
        "    \"\"\"\n",
        "    ys: A batch of column vectors\n",
        "    return: Covariance matrix of the column vectors\n",
        "    \"\"\"\n",
        "\n",
        "    return np.mean(ys@ys.transpose(0, 2, 1), axis=0) #ys=y-mu"
      ],
      "execution_count": null,
      "outputs": []
    },
    {
      "cell_type": "code",
      "metadata": {
        "id": "WjCxOmqdbGLm",
        "outputId": "038def1b-ca97-4c04-fc03-203181114564",
        "colab": {
          "base_uri": "https://localhost:8080/"
        }
      },
      "source": [
        "# Code to test the above two functions.\n",
        "\n",
        "M=2\n",
        "\n",
        "# Observe how the matrix shapes are adjusted to allow for the vectorization.\n",
        "A = np.random.randint(low=1,high=10,size=(1,M,M))\n",
        "xs = np.random.randn(50000,M,1)\n",
        "mu = np.random.randint(low=0,high=10,size=(1,M,1))\n",
        "\n",
        "ys = A @ xs + mu\n",
        "\n",
        "# The following two column-vectors should be nearly identical\n",
        "print(\"Mean:\")\n",
        "print(E_y(ys))\n",
        "print(mu,end=\"\\n\\n\")\n",
        "\n",
        "# The following two matrices should be nearly identical\n",
        "print(\"Covariance:\")\n",
        "print(E_yyT(ys-mu))\n",
        "print(A[0]@A[0].T)\n"
      ],
      "execution_count": null,
      "outputs": [
        {
          "output_type": "stream",
          "name": "stdout",
          "text": [
            "Mean:\n",
            "[[9.02331263]\n",
            " [1.01963886]]\n",
            "[[[9]\n",
            "  [1]]]\n",
            "\n",
            "Covariance:\n",
            "[[60.38661088 48.53126818]\n",
            " [48.53126818 40.63281023]]\n",
            "[[61 49]\n",
            " [49 41]]\n"
          ]
        }
      ]
    },
    {
      "cell_type": "markdown",
      "metadata": {
        "id": "b3lIVUddbGLt"
      },
      "source": [
        "[Q3] Given a covariance matrix $\\mathbf{C}$ and mean $\\mu$, generate N samples of $y$ using $\\mathbf{x} \\sim N(0, I_m)$ such that $\\mathbb{E}[\\mathbf{y}]=\\mu$\n",
        "and $\\mathbb{E}[\\left(\\mathbf{y-\\mu}\\right)\\left(\\mathbf{y-\\mu}\\right)^\\top]=\\mathbf{C}$.\n",
        "\n",
        "Hint: See np.linalg.cholesky"
      ]
    },
    {
      "cell_type": "code",
      "metadata": {
        "id": "lN4sYXysbGLt"
      },
      "source": [
        "def sample(C, mu, N):\n",
        "    \"\"\"\n",
        "    C: An MxM \"positive definite\"(?!?!) symmetric matrix\n",
        "    mu: An Mx1 column vector\n",
        "    return: A batch of column-vectors with Mean=mu and Covariance=C\n",
        "    \"\"\"\n",
        "    M = C.shape[0]\n",
        "\n",
        "    # cholesky decomposition of C\n",
        "    L = np.linalg.cholesky(C)\n",
        "\n",
        "    # standard normal distribution\n",
        "    x = np.random.standard_normal(size=(1,M,N))\n",
        "\n",
        "    # apply the formula y = L@x+mu where C=L@L.T\n",
        "    y = (L @ x) + mu.reshape(-1,1)\n",
        "    y = y.T #return transpose\n",
        "\n",
        "    return y"
      ],
      "execution_count": null,
      "outputs": []
    },
    {
      "cell_type": "code",
      "metadata": {
        "scrolled": false,
        "id": "mJnHRLOnbGLx",
        "outputId": "0b90faa9-9dd3-4bed-93fc-3743595bc7b1",
        "colab": {
          "base_uri": "https://localhost:8080/"
        }
      },
      "source": [
        "# Code to test the above function\n",
        "\n",
        "M = 5\n",
        "\n",
        "# The following ensures that C is a positive semi-definite symmetric matrix. Find out why! What happens if low=0?\n",
        "A = np.random.randint(low=1,high=10,size=(M,M))\n",
        "A[np.triu_indices(M,k=1)] = 0\n",
        "\n",
        "C = A@A.T\n",
        "\n",
        "mu = np.random.randint(low=0,high=10,size=(1,M,1))\n",
        "\n",
        "ys = sample(C, mu, 50000)\n",
        "\n",
        "# The following two column-vectors should be nearly identical\n",
        "print(\"Mean:\")\n",
        "print(E_y(ys))\n",
        "print(mu,end=\"\\n\\n\")\n",
        "\n",
        "# The following two matrices should be nearly identical\n",
        "print(\"Covariance:\")\n",
        "print(E_yyT(ys-mu))\n",
        "print(C)"
      ],
      "execution_count": null,
      "outputs": [
        {
          "output_type": "stream",
          "name": "stdout",
          "text": [
            "Mean:\n",
            "[[0.02642202]\n",
            " [8.98006373]\n",
            " [9.01963137]\n",
            " [9.03122831]\n",
            " [6.0063428 ]]\n",
            "[[[0]\n",
            "  [9]\n",
            "  [9]\n",
            "  [9]\n",
            "  [6]]]\n",
            "\n",
            "Covariance:\n",
            "[[ 24.98879364  30.14658917  40.16292841  45.17475376   5.21067577]\n",
            " [ 30.14658917 117.47080655 111.66055906 126.25383467  60.62909218]\n",
            " [ 40.16292841 111.66055906 129.71938389 140.72124522  74.69604476]\n",
            " [ 45.17475376 126.25383467 140.72124522 203.95056972  96.96838729]\n",
            " [  5.21067577  60.62909218  74.69604476  96.96838729  98.48177514]]\n",
            "[[ 25  30  40  45   5]\n",
            " [ 30 117 111 126  60]\n",
            " [ 40 111 129 140  74]\n",
            " [ 45 126 140 203  96]\n",
            " [  5  60  74  96  98]]\n"
          ]
        }
      ]
    },
    {
      "cell_type": "markdown",
      "metadata": {
        "id": "QDH3fh75bGL4"
      },
      "source": [
        "# II. Invertible Neural Network"
      ]
    },
    {
      "cell_type": "markdown",
      "metadata": {
        "id": "e_7itkw4bGL4"
      },
      "source": [
        "Invertible neural networks -- which learn bijective (invertible) functions $f$ such that if $y=f(x)$, we should be  able to obtain an unique $x=f^{-1}(y)$ -- play a central role in many applications. In this assignment, we will work with invertible fully-connected 3-Layer Neural Networks.\n",
        "\n",
        "Recall that the main operation in neural networks is matrix multiplication and in order to compute the inverse, we would need to invert the matrices. As computing inverse is costly, we store each matrix in their SVD factorized forms $W = USV$, where U and V are orthogonal matrices and S is diagonal [with none of the diagonal entries being 0]. Also, observe that the number of hidden units at all layers are equal to the number of input units (why?!).\n",
        "\n",
        "In this assignment, we will use parameters of an \"already-invertible\" neural network and just write the code for computing the forward and inversion operations.\n",
        "\n",
        "Q1. Write the code for forward pass, by choosing \"LeakyReLU\" as the activation function with negative_slope=0.1.\n",
        "\n",
        "Q2. Subsequently, write the code for the invert function."
      ]
    },
    {
      "cell_type": "code",
      "metadata": {
        "id": "FGHWS5VVbGL5"
      },
      "source": [
        "import torch.nn.functional as F\n",
        "\n",
        "class InvertibleNN(torch.nn.Module):\n",
        "    def __init__(self, m):\n",
        "\n",
        "        super(InvertibleNN,self).__init__()\n",
        "\n",
        "        self.u1 = torch.nn.Parameter(torch.nn.init.normal_(torch.empty(m,m)))\n",
        "        self.s1 = torch.nn.Parameter(torch.nn.init.normal_(torch.empty(m,m)))\n",
        "        self.v1 = torch.nn.Parameter(torch.nn.init.normal_(torch.empty(m,m)))\n",
        "        self.b1 = torch.nn.Parameter(torch.nn.init.normal_(torch.empty(m)))\n",
        "\n",
        "        self.u2 = torch.nn.Parameter(torch.nn.init.normal_(torch.empty(m,m)))\n",
        "        self.s2 = torch.nn.Parameter(torch.nn.init.normal_(torch.empty(m,m)))\n",
        "        self.v2 = torch.nn.Parameter(torch.nn.init.normal_(torch.empty(m,m)))\n",
        "        self.b2 = torch.nn.Parameter(torch.nn.init.normal_(torch.empty(m)))\n",
        "\n",
        "        self.u3 = torch.nn.Parameter(torch.nn.init.normal_(torch.empty(m,m)))\n",
        "        self.s3 = torch.nn.Parameter(torch.nn.init.normal_(torch.empty(m,m)))\n",
        "        self.v3 = torch.nn.Parameter(torch.nn.init.normal_(torch.empty(m,m)))\n",
        "        self.b3 = torch.nn.Parameter(torch.nn.init.normal_(torch.empty(m)))\n",
        "\n",
        "    def forward(self, x):\n",
        "        \"\"\"\n",
        "        x: A batch input of shape (N,m)\n",
        "        return: The output of the fully-connected 3-layer neural network\n",
        "        \"\"\"\n",
        "\n",
        "        # Write code here\n",
        "        u1, s1, v1, b1 = self.u1, self.s1, self.v1, self.b1\n",
        "        u2, s2, v2, b2 = self.u2, self.s2, self.v2, self.b2\n",
        "        u3, s3, v3, b3 = self.u3, self.s3, self.v3, self.b3\n",
        "\n",
        "        #calculate weights using W=USV.T\n",
        "        w1 = u1 @ s1 @ v1.T\n",
        "        w2 = u2 @ s2 @ v2.T\n",
        "        w3 = u3 @ s3 @ v3.T\n",
        "\n",
        "        #forward pass operations\n",
        "        z1 = x @ w1 + b1\n",
        "        o1 = F.leaky_relu(z1, negative_slope=0.1)\n",
        "\n",
        "        z2 = o1 @ w2 + b2\n",
        "        o2 = F.leaky_relu(z2, negative_slope=0.1)\n",
        "\n",
        "        z3 = o2 @ w3 + b3\n",
        "        o3 = F.leaky_relu(z3, negative_slope=0.1)\n",
        "        y = o3 #returning output\n",
        "\n",
        "        return y\n",
        "\n",
        "    def invert(self, y):\n",
        "        \"\"\"\n",
        "        y: A batch input of shape (N,m)\n",
        "        return: The input of the fully-connected 3-layer neural network which would yield y\n",
        "        \"\"\"\n",
        "\n",
        "        # Write code here\n",
        "        u1, s1, v1, b1 = self.u1, self.s1, self.v1, self.b1\n",
        "        u2, s2, v2, b2 = self.u2, self.s2, self.v2, self.b2\n",
        "        u3, s3, v3, b3 = self.u3, self.s3, self.v3, self.b3\n",
        "\n",
        "        # winverse using W.inv = VS.invU.T\n",
        "        w3inv = v3 @ torch.inverse(s3) @ u3.T\n",
        "        w2inv = v2 @ torch.inverse(s2) @ u2.T\n",
        "        w1inv = v1 @ torch.inverse(s1) @ u1.T\n",
        "\n",
        "        #inverse function operations\n",
        "        o3 = F.leaky_relu(y, negative_slope=10)\n",
        "        z3 = (o3-b3)@w3inv\n",
        "        o2 = F.leaky_relu(z3, negative_slope=10)\n",
        "        z2 = (o2-b2)@w2inv\n",
        "        o1 = F.leaky_relu(z2, negative_slope=10)\n",
        "        z1 = (o1-b1)@w1inv\n",
        "        x = z1 #returning input\n",
        "\n",
        "        return x\n"
      ],
      "execution_count": null,
      "outputs": []
    },
    {
      "cell_type": "code",
      "metadata": {
        "id": "yPIcnhXGbGL8",
        "outputId": "b1b50541-00db-463d-945c-e474360ab414",
        "colab": {
          "base_uri": "https://localhost:8080/"
        }
      },
      "source": [
        "# Code to test the forward and invert functions\n",
        "\n",
        "for m in range(1,11): # change back to 11\n",
        "    iNN = InvertibleNN(m)\n",
        "\n",
        "    r = requests.get(\"https://web.cs.dal.ca/~sastry/inv_net_{}.pt\".format(m))\n",
        "    iNN.load_state_dict(torch.load(io.BytesIO(r.content)))\n",
        "\n",
        "    x = torch.FloatTensor(np.random.randint(low=1,high=10,size=(1,m)))\n",
        "\n",
        "    # These 2 outputs should be nearly identical.\n",
        "    print(x)\n",
        "    print(iNN.invert(iNN(x)))\n",
        "\n",
        "    print(\"=\"*40)"
      ],
      "execution_count": null,
      "outputs": [
        {
          "output_type": "stream",
          "name": "stdout",
          "text": [
            "tensor([[1.]])\n",
            "tensor([[1.0000]], grad_fn=<MmBackward0>)\n",
            "========================================\n",
            "tensor([[9., 7.]])\n",
            "tensor([[9.0000, 7.0000]], grad_fn=<MmBackward0>)\n",
            "========================================\n",
            "tensor([[1., 4., 3.]])\n",
            "tensor([[1.0000, 4.0000, 3.0000]], grad_fn=<MmBackward0>)\n",
            "========================================\n",
            "tensor([[3., 6., 5., 4.]])\n",
            "tensor([[3.0000, 6.0001, 5.0001, 3.9998]], grad_fn=<MmBackward0>)\n",
            "========================================\n",
            "tensor([[1., 1., 3., 4., 3.]])\n",
            "tensor([[1.0001, 1.0001, 2.9999, 4.0000, 3.0000]], grad_fn=<MmBackward0>)\n",
            "========================================\n",
            "tensor([[5., 6., 6., 9., 2., 8.]])\n",
            "tensor([[5.0000, 6.0000, 6.0000, 9.0000, 2.0000, 8.0000]],\n",
            "       grad_fn=<MmBackward0>)\n",
            "========================================\n",
            "tensor([[7., 7., 1., 1., 7., 3., 1.]])\n",
            "tensor([[7.0004, 7.0001, 1.0001, 1.0000, 6.9999, 2.9996, 0.9999]],\n",
            "       grad_fn=<MmBackward0>)\n",
            "========================================\n",
            "tensor([[4., 5., 8., 7., 3., 6., 3., 7.]])\n",
            "tensor([[4.0001, 5.0000, 8.0001, 7.0001, 3.0000, 6.0001, 3.0000, 7.0001]],\n",
            "       grad_fn=<MmBackward0>)\n",
            "========================================\n",
            "tensor([[3., 7., 3., 5., 3., 3., 2., 1., 2.]])\n",
            "tensor([[3.0000, 7.0000, 3.0002, 4.9999, 2.9999, 3.0000, 2.0000, 1.0000, 2.0000]],\n",
            "       grad_fn=<MmBackward0>)\n",
            "========================================\n",
            "tensor([[5., 3., 2., 6., 7., 5., 5., 7., 3., 1.]])\n",
            "tensor([[5.0002, 3.0003, 2.0001, 5.9998, 6.9999, 5.0000, 4.9998, 7.0003, 3.0000,\n",
            "         1.0002]], grad_fn=<MmBackward0>)\n",
            "========================================\n"
          ]
        }
      ]
    },
    {
      "cell_type": "markdown",
      "metadata": {
        "id": "6YEQKt3yapE-"
      },
      "source": [
        "Q3. In certain applications, it is important to calculate the trace of the input-output Jacobian matrix. Shown below is the code for computing the trace of the input-output jacobian. In general, for an N-dimensional input, we would require N `backward` passes [which can easily blow up in real-world settings]. However, we can reduce the number of backward passes by using the Huchtinson's trick:\n",
        "\n",
        "$$tr(A)=\\mathbb{E}_{x}[x^\\top A x]$$\n",
        "\n",
        "where $x$ is a random variable such that $\\mathbb{E}[xx^\\top] = I$. Popular choices are Rademacher and Gaussian Distributions.\n",
        "\n",
        "Mathematically prove that Hutchinson's trick works, i.e., that the equation above holds. Can you use the Hutchinson's trick to estimate the trace of the input-output Jacobian? Your output should be almost identical to the exact trace for the suggested configuration of the Neural Network."
      ]
    },
    {
      "cell_type": "code",
      "metadata": {
        "id": "o3jyYRekaoNE",
        "colab": {
          "base_uri": "https://localhost:8080/"
        },
        "outputId": "a3879b47-fe13-49f4-cca1-d50bfac17528"
      },
      "source": [
        "def exact_trace(iNN,x):\n",
        "    x.requires_grad = True\n",
        "    y = iNN(x)\n",
        "    sum = 0\n",
        "    for i in range(x.shape[1]):\n",
        "        sum += torch.autograd.grad(y[0,i],x,retain_graph=True)[0][0,i]\n",
        "    return sum\n",
        "\n",
        "def approximate_trace(iNN,x):\n",
        "  x.requires_grad = True\n",
        "  y = iNN(x)\n",
        "\n",
        "  # generate z using Rademacher distribution\n",
        "  z = 2 * torch.randint(0, 2, (1, x.shape[1]), device=x.device).float() - 1\n",
        "\n",
        "  # trace using JVP and Hutchinson's trick\n",
        "  jvp = torch.autograd.grad(y, x, z, retain_graph=True)[0] * x.shape[1] # and reshape\n",
        "  product = z * jvp\n",
        "  trace = torch.mean(product) #expectation\n",
        "\n",
        "  return trace.mean()\n",
        "\n",
        "iNN = InvertibleNN(1000)\n",
        "\n",
        "r = requests.get(\"https://web.cs.dal.ca/~sastry/inv_net_1000.pt\")\n",
        "iNN.load_state_dict(torch.load(io.BytesIO(r.content)))\n",
        "\n",
        "for i in range(10):\n",
        "    x = torch.FloatTensor(np.random.randn(1,1000))\n",
        "    print(exact_trace(iNN,x))\n",
        "    print(approximate_trace(iNN,x))\n",
        "    print(\"=\"*30)"
      ],
      "execution_count": null,
      "outputs": [
        {
          "output_type": "stream",
          "name": "stdout",
          "text": [
            "tensor(9.6033e+08)\n",
            "tensor(9.6033e+08)\n",
            "==============================\n",
            "tensor(1.1440e+09)\n",
            "tensor(1.1440e+09)\n",
            "==============================\n",
            "tensor(1.0704e+09)\n",
            "tensor(1.0704e+09)\n",
            "==============================\n",
            "tensor(1.1099e+09)\n",
            "tensor(1.1099e+09)\n",
            "==============================\n",
            "tensor(9.1867e+08)\n",
            "tensor(9.1867e+08)\n",
            "==============================\n",
            "tensor(1.1302e+09)\n",
            "tensor(1.1302e+09)\n",
            "==============================\n",
            "tensor(1.1474e+09)\n",
            "tensor(1.1474e+09)\n",
            "==============================\n",
            "tensor(1.2160e+09)\n",
            "tensor(1.2160e+09)\n",
            "==============================\n",
            "tensor(1.2111e+09)\n",
            "tensor(1.2111e+09)\n",
            "==============================\n",
            "tensor(1.0307e+09)\n",
            "tensor(1.0307e+09)\n",
            "==============================\n"
          ]
        }
      ]
    },
    {
      "cell_type": "markdown",
      "metadata": {
        "id": "fCCLlzTJbGL-"
      },
      "source": [
        "# III. Logistic Regression"
      ]
    },
    {
      "cell_type": "code",
      "metadata": {
        "colab": {
          "base_uri": "https://localhost:8080/",
          "height": 430
        },
        "id": "sLw18UyfHplD",
        "outputId": "92ec7eda-54c8-49b2-b63a-d626d1374bb2"
      },
      "source": [
        "%matplotlib inline\n",
        "from sklearn.datasets import make_blobs\n",
        "import matplotlib.pyplot as plt\n",
        "from matplotlib.pyplot import xlim\n",
        "\n",
        "# Create linearly separable data\n",
        "x,y = make_blobs(n_samples=1000, n_features=2, centers=[[-4,-2],[4,2]], cluster_std=1, shuffle=True)\n",
        "colors = np.array(['red','green'])\n",
        "plt.scatter(x[:, 0], x[:, 1],\n",
        "            color = colors[y].tolist(), marker='.')\n",
        "xmin, xmax = xlim()"
      ],
      "execution_count": null,
      "outputs": [
        {
          "output_type": "display_data",
          "data": {
            "text/plain": [
              "<Figure size 640x480 with 1 Axes>"
            ],
            "image/png": "[encoded data removed]"
          },
          "metadata": {}
        }
      ]
    },
    {
      "cell_type": "code",
      "source": [
        "class LogisticRegression(torch.nn.Module):\n",
        "    def __init__(self,input_dimensions):\n",
        "        super(LogisticRegression, self).__init__()\n",
        "\n",
        "        # Define trainable parameters\n",
        "        self.w = torch.nn.Parameter(torch.randn(input_dimensions,1))\n",
        "        self.b = torch.nn.Parameter(torch.zeros(1))\n",
        "\n",
        "    def train(self,X,Y):\n",
        "        \"\"\"\n",
        "        X: a numpy array of shape [*, input_dimensions]\n",
        "        Y: a numpy array of shape [*,1]\n",
        "        \"\"\"\n",
        "        print('shape of w,b', self.w.shape,self.b.shape)\n",
        "        X = torch.tensor(X,dtype=torch.float32)# Create Tensor from numpy array\n",
        "        Y = torch.tensor(Y,dtype=torch.float32)# Create Tensor from numpy array\n",
        "        print('X,Y',X.shape,Y.shape)\n",
        "\n",
        "        print(\"Training...\")\n",
        "\n",
        "        optim = torch.optim.SGD(self.parameters(), lr=0.1) #sending parameters\n",
        "\n",
        "        for i in range(50):\n",
        "            z = X@self.w + self.b\n",
        "            pred = torch.sigmoid(z).squeeze() # Apply the weights on the inputs and get the prediction\n",
        "\n",
        "            cost = -Y*torch.log(pred)-(1-Y)*torch.log(1-pred) # Compute the Cross-entropy loss using pred and Y.\n",
        "            cost = torch.mean(cost) #scalar cost for backward grad\n",
        "\n",
        "            reg = (0.001/2)*(torch.sum(torch.square(self.w))) # L2 regularization with lambda = 0.001\n",
        "\n",
        "            optim.zero_grad()\n",
        "            cost.backward()\n",
        "            reg.backward()\n",
        "            optim.step()\n",
        "\n",
        "        print(cost)"
      ],
      "metadata": {
        "id": "i13LDNsEQ2rS"
      },
      "execution_count": null,
      "outputs": []
    },
    {
      "cell_type": "code",
      "source": [
        "lg = LogisticRegression(input_dimensions=2)\n",
        "lg.train(x,y)\n",
        "w,b = lg.w.detach(), lg.b.detach() # detach() for plotting\n",
        "\n",
        "plt.scatter(x[:, 0], x[:, 1],\n",
        "            color = colors[y].tolist(), marker='.')\n",
        "xmin, xmax = xlim()\n",
        "\n",
        "ymin = -(b+w[0][0]*xmin)/w[1][0]\n",
        "ymax = -(b+w[0][0]*xmax)/w[1][0]\n",
        "\n",
        "plt.plot([xmin,xmax],[ymin,ymax], color=\"black\", linestyle='-', linewidth=2)"
      ],
      "metadata": {
        "colab": {
          "base_uri": "https://localhost:8080/",
          "height": 606
        },
        "id": "I9VrVU-gRB3I",
        "outputId": "783639dd-79a0-49e4-8e60-a525fe3b0ee3"
      },
      "execution_count": null,
      "outputs": [
        {
          "output_type": "stream",
          "name": "stdout",
          "text": [
            "shape of w,b torch.Size([2, 1]) torch.Size([1])\n",
            "X,Y torch.Size([1000, 2]) torch.Size([1000])\n",
            "Training...\n",
            "tensor(0.0148, grad_fn=<MeanBackward0>)\n"
          ]
        },
        {
          "output_type": "stream",
          "name": "stderr",
          "text": [
            "/usr/local/lib/python3.10/dist-packages/numpy/core/shape_base.py:65: FutureWarning: The input object of type 'Tensor' is an array-like implementing one of the corresponding protocols (`__array__`, `__array_interface__` or `__array_struct__`); but not a sequence (or 0-D). In the future, this object will be coerced as if it was first converted using `np.array(obj)`. To retain the old behaviour, you have to either modify the type 'Tensor', or assign to an empty array created with `np.empty(correct_shape, dtype=object)`.\n",
            "  ary = asanyarray(ary)\n",
            "/usr/local/lib/python3.10/dist-packages/numpy/core/shape_base.py:65: VisibleDeprecationWarning: Creating an ndarray from ragged nested sequences (which is a list-or-tuple of lists-or-tuples-or ndarrays with different lengths or shapes) is deprecated. If you meant to do this, you must specify 'dtype=object' when creating the ndarray.\n",
            "  ary = asanyarray(ary)\n"
          ]
        },
        {
          "output_type": "execute_result",
          "data": {
            "text/plain": [
              "[<matplotlib.lines.Line2D at 0x7b74767939d0>]"
            ]
          },
          "metadata": {},
          "execution_count": 36
        },
        {
          "output_type": "display_data",
          "data": {
            "text/plain": [
              "<Figure size 640x480 with 1 Axes>"
            ],
            "image/png": "[encoded data removed]"
          },
          "metadata": {}
        }
      ]
    },
    {
      "cell_type": "code",
      "source": [],
      "metadata": {
        "id": "2IPXm3U9psZR"
      },
      "execution_count": null,
      "outputs": []
    }
  ]
}